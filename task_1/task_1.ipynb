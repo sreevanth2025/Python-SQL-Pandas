{
 "cells": [
  {
   "cell_type": "markdown",
   "id": "f2e7ecc4-03d4-4d3f-9951-6a79eb82ee0e",
   "metadata": {},
   "source": [
    "### Extract data"
   ]
  },
  {
   "cell_type": "code",
   "execution_count": 2,
   "id": "168efb24-ade6-4145-a3ed-95ec7c443c28",
   "metadata": {},
   "outputs": [
    {
     "name": "stdout",
     "output_type": "stream",
     "text": [
      "(44494, 6) (44494, 6)\n"
     ]
    }
   ],
   "source": [
    "import pandas as pd \n",
    "\n",
    "df1 = pd.read_csv(\"order_region_a(in).csv\") # location-a\n",
    "df2 = pd.read_csv(\"order_region_b(in).csv\") # location-b\n",
    "\n",
    "print(df1.shape, df2.shape)"
   ]
  },
  {
   "cell_type": "code",
   "execution_count": 5,
   "id": "e2282bc6-41b4-4b22-b260-007ab4cdc973",
   "metadata": {
    "scrolled": true
   },
   "outputs": [
    {
     "data": {
      "text/plain": [
       "(Index(['OrderId', 'OrderItemId', 'QuantityOrdered', 'ItemPrice',\n",
       "        'PromotionDiscount', 'batch_id'],\n",
       "       dtype='object'),\n",
       " Index(['OrderId', 'OrderItemId', 'QuantityOrdered', 'ItemPrice',\n",
       "        'PromotionDiscount', 'batch_id'],\n",
       "       dtype='object'))"
      ]
     },
     "execution_count": 5,
     "metadata": {},
     "output_type": "execute_result"
    }
   ],
   "source": [
    "df1.columns, df2.columns"
   ]
  },
  {
   "cell_type": "markdown",
   "id": "f4f581b6-c4f1-46f5-af0d-859d9e4d3e03",
   "metadata": {},
   "source": [
    "Schema:\n",
    "\n",
    "OrderId: Order's id\n",
    "\n",
    "OrderItemId: Item ids of the purchase orders.\n",
    "\n",
    "QuantityOrdered: Number of items Ordered for an order.\n",
    "\n",
    "ItemPrice: Price of each item in INR.\n",
    "\n",
    "PromotionDiscount: Discount of an Order."
   ]
  },
  {
   "cell_type": "markdown",
   "id": "572e440b-d063-4f6f-bc6e-0911a0891716",
   "metadata": {},
   "source": [
    "#### Applying business-rules\n",
    "\n",
    "Business Rules:\r\n",
    "1. Combine the data from both regions into a single table.\r\n",
    "2. Add a column total_sales which is calculated as QuantityOrdered * ItemPrice.\r\n",
    "3. Add a column region to identify the region of the sales record (A or B).\r\n",
    "4. Ensure that there are no duplicate entries based on OrderId.\r\n",
    "5. Add a new column net_sale, calculated as total_sales - PromotionDiscount.\r\n",
    "6. Exclude orders where the total sales amount is negative or zero after applying discounts.\r\n",
    "7. Load the transformed data into a the database of your choice."
   ]
  },
  {
   "cell_type": "markdown",
   "id": "d198606c-45dd-421c-a265-53cd17fb586e",
   "metadata": {},
   "source": [
    "### Transform Data "
   ]
  },
  {
   "cell_type": "code",
   "execution_count": 16,
   "id": "57b65883-3b68-4f53-8d35-0203255b1841",
   "metadata": {},
   "outputs": [
    {
     "data": {
      "text/plain": [
       "(Index(['OrderId', 'OrderItemId', 'QuantityOrdered', 'ItemPrice',\n",
       "        'PromotionDiscount', 'batch_id', 'region'],\n",
       "       dtype='object'),\n",
       " Index(['OrderId', 'OrderItemId', 'QuantityOrdered', 'ItemPrice',\n",
       "        'PromotionDiscount', 'batch_id', 'region'],\n",
       "       dtype='object'))"
      ]
     },
     "execution_count": 16,
     "metadata": {},
     "output_type": "execute_result"
    }
   ],
   "source": [
    "# 3. Add a column region to identify the region of the sales record (A or B).\n",
    "\n",
    "df1['region'] = 'A' \n",
    "df2['region'] = 'B' \n",
    "\n",
    "df1.columns, df2.columns"
   ]
  },
  {
   "cell_type": "code",
   "execution_count": 17,
   "id": "9427fad2-c65d-4c96-bd5d-e936ff485784",
   "metadata": {},
   "outputs": [
    {
     "data": {
      "text/plain": [
       "(88988, 7)"
      ]
     },
     "execution_count": 17,
     "metadata": {},
     "output_type": "execute_result"
    }
   ],
   "source": [
    "# 1. Combine the data from both regions into a single table. \n",
    "\n",
    "df = pd.concat([df1, df2], axis=0, ignore_index=True)\n",
    "df.shape"
   ]
  },
  {
   "cell_type": "code",
   "execution_count": 18,
   "id": "6b9f074b-dc83-4fac-82ff-87a062f5c99b",
   "metadata": {},
   "outputs": [
    {
     "data": {
      "text/html": [
       "<div>\n",
       "<style scoped>\n",
       "    .dataframe tbody tr th:only-of-type {\n",
       "        vertical-align: middle;\n",
       "    }\n",
       "\n",
       "    .dataframe tbody tr th {\n",
       "        vertical-align: top;\n",
       "    }\n",
       "\n",
       "    .dataframe thead th {\n",
       "        text-align: right;\n",
       "    }\n",
       "</style>\n",
       "<table border=\"1\" class=\"dataframe\">\n",
       "  <thead>\n",
       "    <tr style=\"text-align: right;\">\n",
       "      <th></th>\n",
       "      <th>OrderId</th>\n",
       "      <th>OrderItemId</th>\n",
       "      <th>QuantityOrdered</th>\n",
       "      <th>ItemPrice</th>\n",
       "      <th>PromotionDiscount</th>\n",
       "      <th>batch_id</th>\n",
       "      <th>region</th>\n",
       "    </tr>\n",
       "  </thead>\n",
       "  <tbody>\n",
       "    <tr>\n",
       "      <th>0</th>\n",
       "      <td>171-0001135-1657958</td>\n",
       "      <td>1.116890e+13</td>\n",
       "      <td>1</td>\n",
       "      <td>949.0</td>\n",
       "      <td>{ \"CurrencyCode\": \"INR\", \"Amount\": \"10\"}</td>\n",
       "      <td>359</td>\n",
       "      <td>A</td>\n",
       "    </tr>\n",
       "    <tr>\n",
       "      <th>1</th>\n",
       "      <td>171-0001497-9165123</td>\n",
       "      <td>1.976030e+13</td>\n",
       "      <td>1</td>\n",
       "      <td>699.0</td>\n",
       "      <td>{ \"CurrencyCode\": \"INR\", \"Amount\": \"10.1\"}</td>\n",
       "      <td>1135</td>\n",
       "      <td>A</td>\n",
       "    </tr>\n",
       "    <tr>\n",
       "      <th>2</th>\n",
       "      <td>171-0002127-1363507</td>\n",
       "      <td>5.949760e+12</td>\n",
       "      <td>1</td>\n",
       "      <td>399.0</td>\n",
       "      <td>{ \"CurrencyCode\": \"INR\", \"Amount\": \"10\"}</td>\n",
       "      <td>297</td>\n",
       "      <td>A</td>\n",
       "    </tr>\n",
       "    <tr>\n",
       "      <th>3</th>\n",
       "      <td>171-0002370-0601169</td>\n",
       "      <td>5.757190e+13</td>\n",
       "      <td>1</td>\n",
       "      <td>499.0</td>\n",
       "      <td>{ \"CurrencyCode\": \"INR\", \"Amount\": \"10.1\"}</td>\n",
       "      <td>114</td>\n",
       "      <td>A</td>\n",
       "    </tr>\n",
       "    <tr>\n",
       "      <th>4</th>\n",
       "      <td>171-0004526-2028348</td>\n",
       "      <td>3.385130e+13</td>\n",
       "      <td>1</td>\n",
       "      <td>1699.0</td>\n",
       "      <td>{ \"CurrencyCode\": \"INR\", \"Amount\": \"10\"}</td>\n",
       "      <td>764</td>\n",
       "      <td>A</td>\n",
       "    </tr>\n",
       "    <tr>\n",
       "      <th>...</th>\n",
       "      <td>...</td>\n",
       "      <td>...</td>\n",
       "      <td>...</td>\n",
       "      <td>...</td>\n",
       "      <td>...</td>\n",
       "      <td>...</td>\n",
       "      <td>...</td>\n",
       "    </tr>\n",
       "    <tr>\n",
       "      <th>88983</th>\n",
       "      <td>403-9398294-9729165</td>\n",
       "      <td>2.595270e+13</td>\n",
       "      <td>1</td>\n",
       "      <td>899.0</td>\n",
       "      <td>{ \"CurrencyCode\": \"INR\", \"Amount\": \"10.1\"}</td>\n",
       "      <td>729</td>\n",
       "      <td>B</td>\n",
       "    </tr>\n",
       "    <tr>\n",
       "      <th>88984</th>\n",
       "      <td>403-9398429-3695549</td>\n",
       "      <td>5.373600e+13</td>\n",
       "      <td>1</td>\n",
       "      <td>499.0</td>\n",
       "      <td>{ \"CurrencyCode\": \"INR\", \"Amount\": \"10\"}</td>\n",
       "      <td>151</td>\n",
       "      <td>B</td>\n",
       "    </tr>\n",
       "    <tr>\n",
       "      <th>88985</th>\n",
       "      <td>403-9399318-8267565</td>\n",
       "      <td>7.727720e+12</td>\n",
       "      <td>1</td>\n",
       "      <td>499.0</td>\n",
       "      <td>{ \"CurrencyCode\": \"INR\", \"Amount\": \"10.1\"}</td>\n",
       "      <td>54</td>\n",
       "      <td>B</td>\n",
       "    </tr>\n",
       "    <tr>\n",
       "      <th>88986</th>\n",
       "      <td>403-9400326-2753965</td>\n",
       "      <td>2.029820e+13</td>\n",
       "      <td>1</td>\n",
       "      <td>499.0</td>\n",
       "      <td>{ \"CurrencyCode\": \"INR\", \"Amount\": \"10\"}</td>\n",
       "      <td>1401</td>\n",
       "      <td>B</td>\n",
       "    </tr>\n",
       "    <tr>\n",
       "      <th>88987</th>\n",
       "      <td>403-9400753-7822741</td>\n",
       "      <td>6.437950e+12</td>\n",
       "      <td>1</td>\n",
       "      <td>629.0</td>\n",
       "      <td>{ \"CurrencyCode\": \"INR\", \"Amount\": \"10.1\"}</td>\n",
       "      <td>461</td>\n",
       "      <td>B</td>\n",
       "    </tr>\n",
       "  </tbody>\n",
       "</table>\n",
       "<p>88988 rows × 7 columns</p>\n",
       "</div>"
      ],
      "text/plain": [
       "                   OrderId   OrderItemId  QuantityOrdered  ItemPrice  \\\n",
       "0      171-0001135-1657958  1.116890e+13                1      949.0   \n",
       "1      171-0001497-9165123  1.976030e+13                1      699.0   \n",
       "2      171-0002127-1363507  5.949760e+12                1      399.0   \n",
       "3      171-0002370-0601169  5.757190e+13                1      499.0   \n",
       "4      171-0004526-2028348  3.385130e+13                1     1699.0   \n",
       "...                    ...           ...              ...        ...   \n",
       "88983  403-9398294-9729165  2.595270e+13                1      899.0   \n",
       "88984  403-9398429-3695549  5.373600e+13                1      499.0   \n",
       "88985  403-9399318-8267565  7.727720e+12                1      499.0   \n",
       "88986  403-9400326-2753965  2.029820e+13                1      499.0   \n",
       "88987  403-9400753-7822741  6.437950e+12                1      629.0   \n",
       "\n",
       "                                PromotionDiscount  batch_id region  \n",
       "0        { \"CurrencyCode\": \"INR\", \"Amount\": \"10\"}       359      A  \n",
       "1      { \"CurrencyCode\": \"INR\", \"Amount\": \"10.1\"}      1135      A  \n",
       "2        { \"CurrencyCode\": \"INR\", \"Amount\": \"10\"}       297      A  \n",
       "3      { \"CurrencyCode\": \"INR\", \"Amount\": \"10.1\"}       114      A  \n",
       "4        { \"CurrencyCode\": \"INR\", \"Amount\": \"10\"}       764      A  \n",
       "...                                           ...       ...    ...  \n",
       "88983  { \"CurrencyCode\": \"INR\", \"Amount\": \"10.1\"}       729      B  \n",
       "88984    { \"CurrencyCode\": \"INR\", \"Amount\": \"10\"}       151      B  \n",
       "88985  { \"CurrencyCode\": \"INR\", \"Amount\": \"10.1\"}        54      B  \n",
       "88986    { \"CurrencyCode\": \"INR\", \"Amount\": \"10\"}      1401      B  \n",
       "88987  { \"CurrencyCode\": \"INR\", \"Amount\": \"10.1\"}       461      B  \n",
       "\n",
       "[88988 rows x 7 columns]"
      ]
     },
     "execution_count": 18,
     "metadata": {},
     "output_type": "execute_result"
    }
   ],
   "source": [
    "df"
   ]
  },
  {
   "cell_type": "code",
   "execution_count": 90,
   "id": "39a60583-08ba-4b1b-86e6-aa245febaf31",
   "metadata": {},
   "outputs": [
    {
     "data": {
      "text/html": [
       "<div>\n",
       "<style scoped>\n",
       "    .dataframe tbody tr th:only-of-type {\n",
       "        vertical-align: middle;\n",
       "    }\n",
       "\n",
       "    .dataframe tbody tr th {\n",
       "        vertical-align: top;\n",
       "    }\n",
       "\n",
       "    .dataframe thead th {\n",
       "        text-align: right;\n",
       "    }\n",
       "</style>\n",
       "<table border=\"1\" class=\"dataframe\">\n",
       "  <thead>\n",
       "    <tr style=\"text-align: right;\">\n",
       "      <th></th>\n",
       "      <th>OrderId</th>\n",
       "      <th>OrderItemId</th>\n",
       "      <th>QuantityOrdered</th>\n",
       "      <th>ItemPrice</th>\n",
       "      <th>PromotionDiscount</th>\n",
       "      <th>batch_id</th>\n",
       "      <th>region</th>\n",
       "      <th>total_sales</th>\n",
       "    </tr>\n",
       "  </thead>\n",
       "  <tbody>\n",
       "    <tr>\n",
       "      <th>0</th>\n",
       "      <td>171-0001135-1657958</td>\n",
       "      <td>1.116890e+13</td>\n",
       "      <td>1</td>\n",
       "      <td>949.0</td>\n",
       "      <td>{ \"CurrencyCode\": \"INR\", \"Amount\": \"10\"}</td>\n",
       "      <td>359</td>\n",
       "      <td>A</td>\n",
       "      <td>949.0</td>\n",
       "    </tr>\n",
       "    <tr>\n",
       "      <th>1</th>\n",
       "      <td>171-0001497-9165123</td>\n",
       "      <td>1.976030e+13</td>\n",
       "      <td>1</td>\n",
       "      <td>699.0</td>\n",
       "      <td>{ \"CurrencyCode\": \"INR\", \"Amount\": \"10.1\"}</td>\n",
       "      <td>1135</td>\n",
       "      <td>A</td>\n",
       "      <td>699.0</td>\n",
       "    </tr>\n",
       "    <tr>\n",
       "      <th>2</th>\n",
       "      <td>171-0002127-1363507</td>\n",
       "      <td>5.949760e+12</td>\n",
       "      <td>1</td>\n",
       "      <td>399.0</td>\n",
       "      <td>{ \"CurrencyCode\": \"INR\", \"Amount\": \"10\"}</td>\n",
       "      <td>297</td>\n",
       "      <td>A</td>\n",
       "      <td>399.0</td>\n",
       "    </tr>\n",
       "    <tr>\n",
       "      <th>3</th>\n",
       "      <td>171-0002370-0601169</td>\n",
       "      <td>5.757190e+13</td>\n",
       "      <td>1</td>\n",
       "      <td>499.0</td>\n",
       "      <td>{ \"CurrencyCode\": \"INR\", \"Amount\": \"10.1\"}</td>\n",
       "      <td>114</td>\n",
       "      <td>A</td>\n",
       "      <td>499.0</td>\n",
       "    </tr>\n",
       "    <tr>\n",
       "      <th>4</th>\n",
       "      <td>171-0004526-2028348</td>\n",
       "      <td>3.385130e+13</td>\n",
       "      <td>1</td>\n",
       "      <td>1699.0</td>\n",
       "      <td>{ \"CurrencyCode\": \"INR\", \"Amount\": \"10\"}</td>\n",
       "      <td>764</td>\n",
       "      <td>A</td>\n",
       "      <td>1699.0</td>\n",
       "    </tr>\n",
       "  </tbody>\n",
       "</table>\n",
       "</div>"
      ],
      "text/plain": [
       "               OrderId   OrderItemId  QuantityOrdered  ItemPrice  \\\n",
       "0  171-0001135-1657958  1.116890e+13                1      949.0   \n",
       "1  171-0001497-9165123  1.976030e+13                1      699.0   \n",
       "2  171-0002127-1363507  5.949760e+12                1      399.0   \n",
       "3  171-0002370-0601169  5.757190e+13                1      499.0   \n",
       "4  171-0004526-2028348  3.385130e+13                1     1699.0   \n",
       "\n",
       "                            PromotionDiscount  batch_id region  total_sales  \n",
       "0    { \"CurrencyCode\": \"INR\", \"Amount\": \"10\"}       359      A        949.0  \n",
       "1  { \"CurrencyCode\": \"INR\", \"Amount\": \"10.1\"}      1135      A        699.0  \n",
       "2    { \"CurrencyCode\": \"INR\", \"Amount\": \"10\"}       297      A        399.0  \n",
       "3  { \"CurrencyCode\": \"INR\", \"Amount\": \"10.1\"}       114      A        499.0  \n",
       "4    { \"CurrencyCode\": \"INR\", \"Amount\": \"10\"}       764      A       1699.0  "
      ]
     },
     "execution_count": 90,
     "metadata": {},
     "output_type": "execute_result"
    }
   ],
   "source": [
    "# 2. Add a column total_sales which is calculated as QuantityOrdered * ItemPrice.\n",
    "\n",
    "df['total_sales'] = df['QuantityOrdered'] * df['ItemPrice']  \n",
    "df.head()"
   ]
  },
  {
   "cell_type": "code",
   "execution_count": 91,
   "id": "a381a70a-c7a5-42d0-8a64-1cc8b4e00f56",
   "metadata": {},
   "outputs": [
    {
     "data": {
      "text/html": [
       "<div>\n",
       "<style scoped>\n",
       "    .dataframe tbody tr th:only-of-type {\n",
       "        vertical-align: middle;\n",
       "    }\n",
       "\n",
       "    .dataframe tbody tr th {\n",
       "        vertical-align: top;\n",
       "    }\n",
       "\n",
       "    .dataframe thead th {\n",
       "        text-align: right;\n",
       "    }\n",
       "</style>\n",
       "<table border=\"1\" class=\"dataframe\">\n",
       "  <thead>\n",
       "    <tr style=\"text-align: right;\">\n",
       "      <th></th>\n",
       "      <th>OrderId</th>\n",
       "      <th>OrderItemId</th>\n",
       "      <th>QuantityOrdered</th>\n",
       "      <th>ItemPrice</th>\n",
       "      <th>PromotionDiscount</th>\n",
       "      <th>batch_id</th>\n",
       "      <th>region</th>\n",
       "      <th>total_sales</th>\n",
       "    </tr>\n",
       "  </thead>\n",
       "  <tbody>\n",
       "    <tr>\n",
       "      <th>53</th>\n",
       "      <td>171-0034857-3794740</td>\n",
       "      <td>3.586060e+13</td>\n",
       "      <td>2</td>\n",
       "      <td>1198.0</td>\n",
       "      <td>{ \"CurrencyCode\": \"INR\", \"Amount\": \"10.1\"}</td>\n",
       "      <td>188</td>\n",
       "      <td>A</td>\n",
       "      <td>2396.0</td>\n",
       "    </tr>\n",
       "    <tr>\n",
       "      <th>63</th>\n",
       "      <td>171-0039618-4949171</td>\n",
       "      <td>2.855330e+12</td>\n",
       "      <td>2</td>\n",
       "      <td>558.0</td>\n",
       "      <td>{ \"CurrencyCode\": \"INR\", \"Amount\": \"10.1\"}</td>\n",
       "      <td>165</td>\n",
       "      <td>A</td>\n",
       "      <td>1116.0</td>\n",
       "    </tr>\n",
       "    <tr>\n",
       "      <th>112</th>\n",
       "      <td>171-0075785-1220351</td>\n",
       "      <td>2.640650e+13</td>\n",
       "      <td>2</td>\n",
       "      <td>5998.0</td>\n",
       "      <td>{ \"CurrencyCode\": \"INR\", \"Amount\": \"10\"}</td>\n",
       "      <td>116</td>\n",
       "      <td>A</td>\n",
       "      <td>11996.0</td>\n",
       "    </tr>\n",
       "    <tr>\n",
       "      <th>179</th>\n",
       "      <td>171-0109070-3901902</td>\n",
       "      <td>3.413900e+13</td>\n",
       "      <td>2</td>\n",
       "      <td>3198.0</td>\n",
       "      <td>{ \"CurrencyCode\": \"INR\", \"Amount\": \"10.1\"}</td>\n",
       "      <td>721</td>\n",
       "      <td>A</td>\n",
       "      <td>6396.0</td>\n",
       "    </tr>\n",
       "    <tr>\n",
       "      <th>294</th>\n",
       "      <td>171-0180848-2574766</td>\n",
       "      <td>3.179560e+13</td>\n",
       "      <td>3</td>\n",
       "      <td>1347.0</td>\n",
       "      <td>{ \"CurrencyCode\": \"INR\", \"Amount\": \"10\"}</td>\n",
       "      <td>1241</td>\n",
       "      <td>A</td>\n",
       "      <td>4041.0</td>\n",
       "    </tr>\n",
       "  </tbody>\n",
       "</table>\n",
       "</div>"
      ],
      "text/plain": [
       "                 OrderId   OrderItemId  QuantityOrdered  ItemPrice  \\\n",
       "53   171-0034857-3794740  3.586060e+13                2     1198.0   \n",
       "63   171-0039618-4949171  2.855330e+12                2      558.0   \n",
       "112  171-0075785-1220351  2.640650e+13                2     5998.0   \n",
       "179  171-0109070-3901902  3.413900e+13                2     3198.0   \n",
       "294  171-0180848-2574766  3.179560e+13                3     1347.0   \n",
       "\n",
       "                              PromotionDiscount  batch_id region  total_sales  \n",
       "53   { \"CurrencyCode\": \"INR\", \"Amount\": \"10.1\"}       188      A       2396.0  \n",
       "63   { \"CurrencyCode\": \"INR\", \"Amount\": \"10.1\"}       165      A       1116.0  \n",
       "112    { \"CurrencyCode\": \"INR\", \"Amount\": \"10\"}       116      A      11996.0  \n",
       "179  { \"CurrencyCode\": \"INR\", \"Amount\": \"10.1\"}       721      A       6396.0  \n",
       "294    { \"CurrencyCode\": \"INR\", \"Amount\": \"10\"}      1241      A       4041.0  "
      ]
     },
     "execution_count": 91,
     "metadata": {},
     "output_type": "execute_result"
    }
   ],
   "source": [
    "df[df['QuantityOrdered'] > 1].head()    # to check the above calc"
   ]
  },
  {
   "cell_type": "code",
   "execution_count": 99,
   "id": "553a9993-4e1a-41e4-9c89-a3c33d0ff6be",
   "metadata": {},
   "outputs": [
    {
     "data": {
      "text/plain": [
       "(41107, 8)"
      ]
     },
     "execution_count": 99,
     "metadata": {},
     "output_type": "execute_result"
    }
   ],
   "source": [
    "# 4. Ensure that there are no duplicate entries based on OrderId.\n",
    "\n",
    "cleaned_df = df.drop_duplicates(subset='OrderId', keep='first').reset_index(drop=True)\n",
    "cleaned_df.shape"
   ]
  },
  {
   "cell_type": "code",
   "execution_count": 101,
   "id": "c392d2df-5176-4694-8160-7bd501741992",
   "metadata": {},
   "outputs": [
    {
     "data": {
      "text/plain": [
       "array(['A'], dtype=object)"
      ]
     },
     "execution_count": 101,
     "metadata": {},
     "output_type": "execute_result"
    }
   ],
   "source": [
    "cleaned_df['region'].unique()  # what ??????, all region-B are gone?????"
   ]
  },
  {
   "cell_type": "code",
   "execution_count": 94,
   "id": "cf987f09-de28-478c-951b-9f5f2076a8ac",
   "metadata": {},
   "outputs": [
    {
     "data": {
      "text/plain": [
       "index                  int64\n",
       "OrderId               object\n",
       "OrderItemId          float64\n",
       "QuantityOrdered        int64\n",
       "ItemPrice            float64\n",
       "PromotionDiscount     object\n",
       "batch_id               int64\n",
       "region                object\n",
       "total_sales          float64\n",
       "dtype: object"
      ]
     },
     "execution_count": 94,
     "metadata": {},
     "output_type": "execute_result"
    }
   ],
   "source": [
    "cleaned_df.dtypes   # to dtype of PromotionDiscount (json or string)"
   ]
  },
  {
   "cell_type": "code",
   "execution_count": 102,
   "id": "418d90e8-f1ae-4b62-a5bf-7a11c273e2bd",
   "metadata": {},
   "outputs": [
    {
     "name": "stdout",
     "output_type": "stream",
     "text": [
      "10.1 <class 'float'>\n"
     ]
    }
   ],
   "source": [
    "# 5. Add a new column net_sale, calculated as total_sales - PromotionDiscount.\n",
    "\n",
    "def extract_amount(obj):     # to extract amount from the obj\n",
    "    obj = obj.strip(\"{} \")\n",
    "    items = obj.split(',')\n",
    "    amount = items[1].strip().split(':')\n",
    "    return float(amount[1].strip('\" ')) \n",
    "\n",
    "val = extract_amount('{ \"CurrencyCode\": \"INR\", \"Amount\": \"10.1\"}') \n",
    "print(val, type(val))"
   ]
  },
  {
   "cell_type": "code",
   "execution_count": 103,
   "id": "9d7049d7-b0e6-4a65-9a16-b6b3cdea375d",
   "metadata": {},
   "outputs": [
    {
     "data": {
      "text/plain": [
       "0        10.0\n",
       "1        10.1\n",
       "2        10.0\n",
       "3        10.1\n",
       "4        10.0\n",
       "         ... \n",
       "41102    10.1\n",
       "41103    10.0\n",
       "41104    10.1\n",
       "41105    10.0\n",
       "41106    10.1\n",
       "Name: PromotionDiscount, Length: 41107, dtype: float64"
      ]
     },
     "execution_count": 103,
     "metadata": {},
     "output_type": "execute_result"
    }
   ],
   "source": [
    "cleaned_df['PromotionDiscount'].apply(extract_amount)   # working fine"
   ]
  },
  {
   "cell_type": "code",
   "execution_count": 104,
   "id": "933e9765-b2dd-4bd8-acdf-e252865de30a",
   "metadata": {},
   "outputs": [
    {
     "data": {
      "text/html": [
       "<div>\n",
       "<style scoped>\n",
       "    .dataframe tbody tr th:only-of-type {\n",
       "        vertical-align: middle;\n",
       "    }\n",
       "\n",
       "    .dataframe tbody tr th {\n",
       "        vertical-align: top;\n",
       "    }\n",
       "\n",
       "    .dataframe thead th {\n",
       "        text-align: right;\n",
       "    }\n",
       "</style>\n",
       "<table border=\"1\" class=\"dataframe\">\n",
       "  <thead>\n",
       "    <tr style=\"text-align: right;\">\n",
       "      <th></th>\n",
       "      <th>OrderId</th>\n",
       "      <th>OrderItemId</th>\n",
       "      <th>QuantityOrdered</th>\n",
       "      <th>ItemPrice</th>\n",
       "      <th>PromotionDiscount</th>\n",
       "      <th>batch_id</th>\n",
       "      <th>region</th>\n",
       "      <th>total_sales</th>\n",
       "      <th>DiscountAmount</th>\n",
       "    </tr>\n",
       "  </thead>\n",
       "  <tbody>\n",
       "    <tr>\n",
       "      <th>0</th>\n",
       "      <td>171-0001135-1657958</td>\n",
       "      <td>1.116890e+13</td>\n",
       "      <td>1</td>\n",
       "      <td>949.0</td>\n",
       "      <td>{ \"CurrencyCode\": \"INR\", \"Amount\": \"10\"}</td>\n",
       "      <td>359</td>\n",
       "      <td>A</td>\n",
       "      <td>949.0</td>\n",
       "      <td>10.0</td>\n",
       "    </tr>\n",
       "    <tr>\n",
       "      <th>1</th>\n",
       "      <td>171-0001497-9165123</td>\n",
       "      <td>1.976030e+13</td>\n",
       "      <td>1</td>\n",
       "      <td>699.0</td>\n",
       "      <td>{ \"CurrencyCode\": \"INR\", \"Amount\": \"10.1\"}</td>\n",
       "      <td>1135</td>\n",
       "      <td>A</td>\n",
       "      <td>699.0</td>\n",
       "      <td>10.1</td>\n",
       "    </tr>\n",
       "    <tr>\n",
       "      <th>2</th>\n",
       "      <td>171-0002127-1363507</td>\n",
       "      <td>5.949760e+12</td>\n",
       "      <td>1</td>\n",
       "      <td>399.0</td>\n",
       "      <td>{ \"CurrencyCode\": \"INR\", \"Amount\": \"10\"}</td>\n",
       "      <td>297</td>\n",
       "      <td>A</td>\n",
       "      <td>399.0</td>\n",
       "      <td>10.0</td>\n",
       "    </tr>\n",
       "    <tr>\n",
       "      <th>3</th>\n",
       "      <td>171-0002370-0601169</td>\n",
       "      <td>5.757190e+13</td>\n",
       "      <td>1</td>\n",
       "      <td>499.0</td>\n",
       "      <td>{ \"CurrencyCode\": \"INR\", \"Amount\": \"10.1\"}</td>\n",
       "      <td>114</td>\n",
       "      <td>A</td>\n",
       "      <td>499.0</td>\n",
       "      <td>10.1</td>\n",
       "    </tr>\n",
       "    <tr>\n",
       "      <th>4</th>\n",
       "      <td>171-0004526-2028348</td>\n",
       "      <td>3.385130e+13</td>\n",
       "      <td>1</td>\n",
       "      <td>1699.0</td>\n",
       "      <td>{ \"CurrencyCode\": \"INR\", \"Amount\": \"10\"}</td>\n",
       "      <td>764</td>\n",
       "      <td>A</td>\n",
       "      <td>1699.0</td>\n",
       "      <td>10.0</td>\n",
       "    </tr>\n",
       "  </tbody>\n",
       "</table>\n",
       "</div>"
      ],
      "text/plain": [
       "               OrderId   OrderItemId  QuantityOrdered  ItemPrice  \\\n",
       "0  171-0001135-1657958  1.116890e+13                1      949.0   \n",
       "1  171-0001497-9165123  1.976030e+13                1      699.0   \n",
       "2  171-0002127-1363507  5.949760e+12                1      399.0   \n",
       "3  171-0002370-0601169  5.757190e+13                1      499.0   \n",
       "4  171-0004526-2028348  3.385130e+13                1     1699.0   \n",
       "\n",
       "                            PromotionDiscount  batch_id region  total_sales  \\\n",
       "0    { \"CurrencyCode\": \"INR\", \"Amount\": \"10\"}       359      A        949.0   \n",
       "1  { \"CurrencyCode\": \"INR\", \"Amount\": \"10.1\"}      1135      A        699.0   \n",
       "2    { \"CurrencyCode\": \"INR\", \"Amount\": \"10\"}       297      A        399.0   \n",
       "3  { \"CurrencyCode\": \"INR\", \"Amount\": \"10.1\"}       114      A        499.0   \n",
       "4    { \"CurrencyCode\": \"INR\", \"Amount\": \"10\"}       764      A       1699.0   \n",
       "\n",
       "   DiscountAmount  \n",
       "0            10.0  \n",
       "1            10.1  \n",
       "2            10.0  \n",
       "3            10.1  \n",
       "4            10.0  "
      ]
     },
     "execution_count": 104,
     "metadata": {},
     "output_type": "execute_result"
    }
   ],
   "source": [
    "cleaned_df['DiscountAmount'] = cleaned_df['PromotionDiscount'].apply(extract_amount)\n",
    "cleaned_df.head()"
   ]
  },
  {
   "cell_type": "code",
   "execution_count": 105,
   "id": "1dc57428-4bb4-4513-86d0-4ce354fc3b0e",
   "metadata": {},
   "outputs": [
    {
     "name": "stdout",
     "output_type": "stream",
     "text": [
      "Empty DataFrame\n",
      "Columns: [OrderId, OrderItemId, QuantityOrdered, ItemPrice, PromotionDiscount, batch_id, region, total_sales, DiscountAmount]\n",
      "Index: []\n"
     ]
    }
   ],
   "source": [
    "non_float_rows = cleaned_df[~cleaned_df['total_sales'].apply(lambda x: isinstance(x, float))]   # checking for non-float or non-valid rows\n",
    "print(non_float_rows)"
   ]
  },
  {
   "cell_type": "code",
   "execution_count": 106,
   "id": "781390e8-a84c-4b63-bed3-f4491ab2c132",
   "metadata": {},
   "outputs": [
    {
     "name": "stdout",
     "output_type": "stream",
     "text": [
      "Empty DataFrame\n",
      "Columns: [OrderId, OrderItemId, QuantityOrdered, ItemPrice, PromotionDiscount, batch_id, region, total_sales, DiscountAmount]\n",
      "Index: []\n"
     ]
    }
   ],
   "source": [
    "non_float_rows = cleaned_df[~cleaned_df['DiscountAmount'].apply(lambda x: isinstance(x, float))]   # checking for non-float or non-valid rows\n",
    "print(non_float_rows)"
   ]
  },
  {
   "cell_type": "code",
   "execution_count": 107,
   "id": "e9d0cb01-2414-454d-824d-145fa7734026",
   "metadata": {},
   "outputs": [
    {
     "data": {
      "text/html": [
       "<div>\n",
       "<style scoped>\n",
       "    .dataframe tbody tr th:only-of-type {\n",
       "        vertical-align: middle;\n",
       "    }\n",
       "\n",
       "    .dataframe tbody tr th {\n",
       "        vertical-align: top;\n",
       "    }\n",
       "\n",
       "    .dataframe thead th {\n",
       "        text-align: right;\n",
       "    }\n",
       "</style>\n",
       "<table border=\"1\" class=\"dataframe\">\n",
       "  <thead>\n",
       "    <tr style=\"text-align: right;\">\n",
       "      <th></th>\n",
       "      <th>OrderId</th>\n",
       "      <th>OrderItemId</th>\n",
       "      <th>QuantityOrdered</th>\n",
       "      <th>ItemPrice</th>\n",
       "      <th>PromotionDiscount</th>\n",
       "      <th>batch_id</th>\n",
       "      <th>region</th>\n",
       "      <th>total_sales</th>\n",
       "      <th>DiscountAmount</th>\n",
       "      <th>net_sale</th>\n",
       "    </tr>\n",
       "  </thead>\n",
       "  <tbody>\n",
       "    <tr>\n",
       "      <th>0</th>\n",
       "      <td>171-0001135-1657958</td>\n",
       "      <td>1.116890e+13</td>\n",
       "      <td>1</td>\n",
       "      <td>949.0</td>\n",
       "      <td>{ \"CurrencyCode\": \"INR\", \"Amount\": \"10\"}</td>\n",
       "      <td>359</td>\n",
       "      <td>A</td>\n",
       "      <td>949.0</td>\n",
       "      <td>10.0</td>\n",
       "      <td>939.0</td>\n",
       "    </tr>\n",
       "    <tr>\n",
       "      <th>1</th>\n",
       "      <td>171-0001497-9165123</td>\n",
       "      <td>1.976030e+13</td>\n",
       "      <td>1</td>\n",
       "      <td>699.0</td>\n",
       "      <td>{ \"CurrencyCode\": \"INR\", \"Amount\": \"10.1\"}</td>\n",
       "      <td>1135</td>\n",
       "      <td>A</td>\n",
       "      <td>699.0</td>\n",
       "      <td>10.1</td>\n",
       "      <td>688.9</td>\n",
       "    </tr>\n",
       "    <tr>\n",
       "      <th>2</th>\n",
       "      <td>171-0002127-1363507</td>\n",
       "      <td>5.949760e+12</td>\n",
       "      <td>1</td>\n",
       "      <td>399.0</td>\n",
       "      <td>{ \"CurrencyCode\": \"INR\", \"Amount\": \"10\"}</td>\n",
       "      <td>297</td>\n",
       "      <td>A</td>\n",
       "      <td>399.0</td>\n",
       "      <td>10.0</td>\n",
       "      <td>389.0</td>\n",
       "    </tr>\n",
       "    <tr>\n",
       "      <th>3</th>\n",
       "      <td>171-0002370-0601169</td>\n",
       "      <td>5.757190e+13</td>\n",
       "      <td>1</td>\n",
       "      <td>499.0</td>\n",
       "      <td>{ \"CurrencyCode\": \"INR\", \"Amount\": \"10.1\"}</td>\n",
       "      <td>114</td>\n",
       "      <td>A</td>\n",
       "      <td>499.0</td>\n",
       "      <td>10.1</td>\n",
       "      <td>488.9</td>\n",
       "    </tr>\n",
       "    <tr>\n",
       "      <th>4</th>\n",
       "      <td>171-0004526-2028348</td>\n",
       "      <td>3.385130e+13</td>\n",
       "      <td>1</td>\n",
       "      <td>1699.0</td>\n",
       "      <td>{ \"CurrencyCode\": \"INR\", \"Amount\": \"10\"}</td>\n",
       "      <td>764</td>\n",
       "      <td>A</td>\n",
       "      <td>1699.0</td>\n",
       "      <td>10.0</td>\n",
       "      <td>1689.0</td>\n",
       "    </tr>\n",
       "  </tbody>\n",
       "</table>\n",
       "</div>"
      ],
      "text/plain": [
       "               OrderId   OrderItemId  QuantityOrdered  ItemPrice  \\\n",
       "0  171-0001135-1657958  1.116890e+13                1      949.0   \n",
       "1  171-0001497-9165123  1.976030e+13                1      699.0   \n",
       "2  171-0002127-1363507  5.949760e+12                1      399.0   \n",
       "3  171-0002370-0601169  5.757190e+13                1      499.0   \n",
       "4  171-0004526-2028348  3.385130e+13                1     1699.0   \n",
       "\n",
       "                            PromotionDiscount  batch_id region  total_sales  \\\n",
       "0    { \"CurrencyCode\": \"INR\", \"Amount\": \"10\"}       359      A        949.0   \n",
       "1  { \"CurrencyCode\": \"INR\", \"Amount\": \"10.1\"}      1135      A        699.0   \n",
       "2    { \"CurrencyCode\": \"INR\", \"Amount\": \"10\"}       297      A        399.0   \n",
       "3  { \"CurrencyCode\": \"INR\", \"Amount\": \"10.1\"}       114      A        499.0   \n",
       "4    { \"CurrencyCode\": \"INR\", \"Amount\": \"10\"}       764      A       1699.0   \n",
       "\n",
       "   DiscountAmount  net_sale  \n",
       "0            10.0     939.0  \n",
       "1            10.1     688.9  \n",
       "2            10.0     389.0  \n",
       "3            10.1     488.9  \n",
       "4            10.0    1689.0  "
      ]
     },
     "execution_count": 107,
     "metadata": {},
     "output_type": "execute_result"
    }
   ],
   "source": [
    "cleaned_df['net_sale'] = cleaned_df['total_sales'] - cleaned_df['DiscountAmount'] \n",
    "cleaned_df.head()"
   ]
  },
  {
   "cell_type": "code",
   "execution_count": 108,
   "id": "8640eddb-b94d-49f2-9c04-c7f6e9212d6e",
   "metadata": {},
   "outputs": [
    {
     "data": {
      "text/plain": [
       "(41107, 10)"
      ]
     },
     "execution_count": 108,
     "metadata": {},
     "output_type": "execute_result"
    }
   ],
   "source": [
    "cleaned_df.shape"
   ]
  },
  {
   "cell_type": "code",
   "execution_count": 109,
   "id": "1134da06-3339-43b4-821d-6ad6a713c91f",
   "metadata": {},
   "outputs": [
    {
     "data": {
      "text/plain": [
       "(55, 10)"
      ]
     },
     "execution_count": 109,
     "metadata": {},
     "output_type": "execute_result"
    }
   ],
   "source": [
    "# 5. Exclude orders where the total sales amount is negative or zero after applying discounts.\n",
    "\n",
    "invalid_sale_df = cleaned_df[cleaned_df['net_sale'] <= 0]\n",
    "invalid_sale_df.shape   # total 55 such rows"
   ]
  },
  {
   "cell_type": "code",
   "execution_count": 110,
   "id": "e240fdbc-e595-46c0-9840-4aa3569a4c98",
   "metadata": {},
   "outputs": [
    {
     "data": {
      "text/plain": [
       "(41052, 10)"
      ]
     },
     "execution_count": 110,
     "metadata": {},
     "output_type": "execute_result"
    }
   ],
   "source": [
    "final_df = cleaned_df[cleaned_df['net_sale'] > 0] \n",
    "final_df.shape"
   ]
  },
  {
   "cell_type": "code",
   "execution_count": 111,
   "id": "60767333-a6ac-40f2-aa5e-a7d992441093",
   "metadata": {},
   "outputs": [
    {
     "data": {
      "text/plain": [
       "41052"
      ]
     },
     "execution_count": 111,
     "metadata": {},
     "output_type": "execute_result"
    }
   ],
   "source": [
    "41107 - 55    #validated"
   ]
  },
  {
   "cell_type": "markdown",
   "id": "2c1d0c5e-6ccb-4f19-8a4a-8e4881a2558f",
   "metadata": {},
   "source": [
    "### Load Data"
   ]
  },
  {
   "cell_type": "code",
   "execution_count": 112,
   "id": "f6e1e9fc-a2bb-48c9-bc48-c3199b35d941",
   "metadata": {},
   "outputs": [
    {
     "data": {
      "text/plain": [
       "<sqlite3.Connection at 0x211b4a1c400>"
      ]
     },
     "execution_count": 112,
     "metadata": {},
     "output_type": "execute_result"
    }
   ],
   "source": [
    "# 7. Load the transformed data into a the database of your choice. \n",
    "\n",
    "import sqlite3\n",
    "\n",
    "# Connect to (or create) an SQLite database file\n",
    "conn = sqlite3.connect(\"orders_database.db\")\n",
    "\n",
    "conn"
   ]
  },
  {
   "cell_type": "code",
   "execution_count": 113,
   "id": "33b79401-07bd-4d01-ab0e-4bf7929cf68a",
   "metadata": {},
   "outputs": [
    {
     "data": {
      "text/plain": [
       "41052"
      ]
     },
     "execution_count": 113,
     "metadata": {},
     "output_type": "execute_result"
    }
   ],
   "source": [
    "# Load the DataFrame into a SQL table\n",
    "final_df.to_sql(\"orders\", conn, if_exists=\"replace\", index=False)  # replace if exists before "
   ]
  },
  {
   "cell_type": "code",
   "execution_count": 114,
   "id": "4547e42a-5d7f-4731-864c-91eed52fb428",
   "metadata": {},
   "outputs": [
    {
     "data": {
      "text/plain": [
       "(41052, 10)"
      ]
     },
     "execution_count": 114,
     "metadata": {},
     "output_type": "execute_result"
    }
   ],
   "source": [
    "# verify the table exitence \n",
    "\n",
    "result_df = pd.read_sql_query(\"SELECT * FROM orders\", conn)\n",
    "\n",
    "result_df.shape"
   ]
  },
  {
   "cell_type": "markdown",
   "id": "450909b2-0a4d-4821-9a26-014e3e610df9",
   "metadata": {},
   "source": [
    "### SQL Queries\n",
    "a. Count the total number of records.\n",
    "\r\n",
    "b. Find the total sales amount by region\n",
    "\n",
    "\r\n",
    "c. Find the average sales amount per transactio\n",
    "\n",
    ".\r\n",
    "d. Ensure there are no duplicate OrderId values."
   ]
  },
  {
   "cell_type": "code",
   "execution_count": 115,
   "id": "cfbf4500-b46f-4dd9-951f-c53f8b75b9f2",
   "metadata": {},
   "outputs": [
    {
     "data": {
      "text/html": [
       "<div>\n",
       "<style scoped>\n",
       "    .dataframe tbody tr th:only-of-type {\n",
       "        vertical-align: middle;\n",
       "    }\n",
       "\n",
       "    .dataframe tbody tr th {\n",
       "        vertical-align: top;\n",
       "    }\n",
       "\n",
       "    .dataframe thead th {\n",
       "        text-align: right;\n",
       "    }\n",
       "</style>\n",
       "<table border=\"1\" class=\"dataframe\">\n",
       "  <thead>\n",
       "    <tr style=\"text-align: right;\">\n",
       "      <th></th>\n",
       "      <th>total_final_orders</th>\n",
       "    </tr>\n",
       "  </thead>\n",
       "  <tbody>\n",
       "    <tr>\n",
       "      <th>0</th>\n",
       "      <td>41052</td>\n",
       "    </tr>\n",
       "  </tbody>\n",
       "</table>\n",
       "</div>"
      ],
      "text/plain": [
       "   total_final_orders\n",
       "0               41052"
      ]
     },
     "execution_count": 115,
     "metadata": {},
     "output_type": "execute_result"
    }
   ],
   "source": [
    "# a. Count the total number of records \n",
    "\n",
    "total_orders = pd.read_sql_query(\"SELECT count(*) as total_final_orders FROM orders\", conn) \n",
    "total_orders"
   ]
  },
  {
   "cell_type": "code",
   "execution_count": 119,
   "id": "65443705-faf9-43ac-938a-2b50bd4ca9b2",
   "metadata": {},
   "outputs": [
    {
     "data": {
      "text/html": [
       "<div>\n",
       "<style scoped>\n",
       "    .dataframe tbody tr th:only-of-type {\n",
       "        vertical-align: middle;\n",
       "    }\n",
       "\n",
       "    .dataframe tbody tr th {\n",
       "        vertical-align: top;\n",
       "    }\n",
       "\n",
       "    .dataframe thead th {\n",
       "        text-align: right;\n",
       "    }\n",
       "</style>\n",
       "<table border=\"1\" class=\"dataframe\">\n",
       "  <thead>\n",
       "    <tr style=\"text-align: right;\">\n",
       "      <th></th>\n",
       "      <th>region</th>\n",
       "      <th>total_sales</th>\n",
       "    </tr>\n",
       "  </thead>\n",
       "  <tbody>\n",
       "    <tr>\n",
       "      <th>0</th>\n",
       "      <td>A</td>\n",
       "      <td>34570984.52</td>\n",
       "    </tr>\n",
       "  </tbody>\n",
       "</table>\n",
       "</div>"
      ],
      "text/plain": [
       "  region  total_sales\n",
       "0      A  34570984.52"
      ]
     },
     "execution_count": 119,
     "metadata": {},
     "output_type": "execute_result"
    }
   ],
   "source": [
    "# b. Find the total sales amount by region\n",
    "\n",
    "query = \"select region, sum(total_sales) as total_sales from orders group by 1\" \n",
    "total_sales_per_region = pd.read_sql_query(query, conn) \n",
    "total_sales_per_region.head()"
   ]
  },
  {
   "cell_type": "code",
   "execution_count": 120,
   "id": "1782037b-c6fc-483a-8c93-bdba15ebfb42",
   "metadata": {},
   "outputs": [
    {
     "data": {
      "text/html": [
       "<div>\n",
       "<style scoped>\n",
       "    .dataframe tbody tr th:only-of-type {\n",
       "        vertical-align: middle;\n",
       "    }\n",
       "\n",
       "    .dataframe tbody tr th {\n",
       "        vertical-align: top;\n",
       "    }\n",
       "\n",
       "    .dataframe thead th {\n",
       "        text-align: right;\n",
       "    }\n",
       "</style>\n",
       "<table border=\"1\" class=\"dataframe\">\n",
       "  <thead>\n",
       "    <tr style=\"text-align: right;\">\n",
       "      <th></th>\n",
       "      <th>OrderId</th>\n",
       "      <th>avg_sales</th>\n",
       "    </tr>\n",
       "  </thead>\n",
       "  <tbody>\n",
       "    <tr>\n",
       "      <th>0</th>\n",
       "      <td>171-0001135-1657958</td>\n",
       "      <td>939.0</td>\n",
       "    </tr>\n",
       "    <tr>\n",
       "      <th>1</th>\n",
       "      <td>171-0001497-9165123</td>\n",
       "      <td>688.9</td>\n",
       "    </tr>\n",
       "    <tr>\n",
       "      <th>2</th>\n",
       "      <td>171-0002127-1363507</td>\n",
       "      <td>389.0</td>\n",
       "    </tr>\n",
       "    <tr>\n",
       "      <th>3</th>\n",
       "      <td>171-0002370-0601169</td>\n",
       "      <td>488.9</td>\n",
       "    </tr>\n",
       "    <tr>\n",
       "      <th>4</th>\n",
       "      <td>171-0004526-2028348</td>\n",
       "      <td>1689.0</td>\n",
       "    </tr>\n",
       "  </tbody>\n",
       "</table>\n",
       "</div>"
      ],
      "text/plain": [
       "               OrderId  avg_sales\n",
       "0  171-0001135-1657958      939.0\n",
       "1  171-0001497-9165123      688.9\n",
       "2  171-0002127-1363507      389.0\n",
       "3  171-0002370-0601169      488.9\n",
       "4  171-0004526-2028348     1689.0"
      ]
     },
     "execution_count": 120,
     "metadata": {},
     "output_type": "execute_result"
    }
   ],
   "source": [
    "# c. Find the average sales amount per transaction \n",
    "\n",
    "query = \"select OrderId, avg(net_sale) as avg_sales from orders group by 1\" \n",
    "avg_sales_per_trans = pd.read_sql_query(query, conn) \n",
    "avg_sales_per_trans.head()"
   ]
  },
  {
   "cell_type": "code",
   "execution_count": 121,
   "id": "528e84d8-97c0-41b0-ae58-20fb57fdc825",
   "metadata": {},
   "outputs": [
    {
     "data": {
      "text/html": [
       "<div>\n",
       "<style scoped>\n",
       "    .dataframe tbody tr th:only-of-type {\n",
       "        vertical-align: middle;\n",
       "    }\n",
       "\n",
       "    .dataframe tbody tr th {\n",
       "        vertical-align: top;\n",
       "    }\n",
       "\n",
       "    .dataframe thead th {\n",
       "        text-align: right;\n",
       "    }\n",
       "</style>\n",
       "<table border=\"1\" class=\"dataframe\">\n",
       "  <thead>\n",
       "    <tr style=\"text-align: right;\">\n",
       "      <th></th>\n",
       "      <th>OrderId</th>\n",
       "      <th>cnt</th>\n",
       "    </tr>\n",
       "  </thead>\n",
       "  <tbody>\n",
       "  </tbody>\n",
       "</table>\n",
       "</div>"
      ],
      "text/plain": [
       "Empty DataFrame\n",
       "Columns: [OrderId, cnt]\n",
       "Index: []"
      ]
     },
     "execution_count": 121,
     "metadata": {},
     "output_type": "execute_result"
    }
   ],
   "source": [
    "# . d. Ensure there are no duplicate OrderId values.\n",
    "\n",
    "query = \"select OrderId, count(*) as cnt from orders group by 1 having count(*) > 1\" \n",
    "duplicates = pd.read_sql_query(query, conn) \n",
    "duplicates.head()"
   ]
  },
  {
   "cell_type": "code",
   "execution_count": 78,
   "id": "9d87a364-b55d-448c-a7b4-72a1067728ac",
   "metadata": {},
   "outputs": [],
   "source": [
    "# close the connection \n",
    "conn.close() "
   ]
  }
 ],
 "metadata": {
  "kernelspec": {
   "display_name": "Python 3 (ipykernel)",
   "language": "python",
   "name": "python3"
  },
  "language_info": {
   "codemirror_mode": {
    "name": "ipython",
    "version": 3
   },
   "file_extension": ".py",
   "mimetype": "text/x-python",
   "name": "python",
   "nbconvert_exporter": "python",
   "pygments_lexer": "ipython3",
   "version": "3.12.2"
  }
 },
 "nbformat": 4,
 "nbformat_minor": 5
}
